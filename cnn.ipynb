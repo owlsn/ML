{
 "cells": [
  {
   "cell_type": "markdown",
   "metadata": {},
   "source": [
    "使用神经网络对mnist的softmax拟合进行优化"
   ]
  },
  {
   "cell_type": "code",
   "execution_count": 1,
   "metadata": {
    "collapsed": true
   },
   "outputs": [],
   "source": [
    "import tensorflow as tf"
   ]
  },
  {
   "cell_type": "code",
   "execution_count": 2,
   "metadata": {},
   "outputs": [
    {
     "name": "stdout",
     "output_type": "stream",
     "text": [
      "Extracting MNIST_data/train-images-idx3-ubyte.gz\n",
      "Extracting MNIST_data/train-labels-idx1-ubyte.gz\n",
      "Extracting MNIST_data/t10k-images-idx3-ubyte.gz\n",
      "Extracting MNIST_data/t10k-labels-idx1-ubyte.gz\n"
     ]
    }
   ],
   "source": [
    "#加载mnist数据\n",
    "from tensorflow.examples.tutorials.mnist import input_data\n",
    "mnist = input_data.read_data_sets('MNIST_data/', one_hot=True)"
   ]
  },
  {
   "cell_type": "code",
   "execution_count": 3,
   "metadata": {},
   "outputs": [
    {
     "name": "stdout",
     "output_type": "stream",
     "text": [
      "Tensor(\"Softmax:0\", shape=(?, 10), dtype=float32)\n"
     ]
    }
   ],
   "source": [
    "#定义模型和模型参数\n",
    "x = tf.placeholder(tf.float32, [None, 784])\n",
    "w = tf.Variable(tf.zeros([784, 10]))\n",
    "b = tf.Variable(tf.zeros([10]))\n",
    "y = tf.nn.softmax(tf.matmul(x, w) + b)\n",
    "print(y)"
   ]
  },
  {
   "cell_type": "code",
   "execution_count": 4,
   "metadata": {
    "collapsed": true
   },
   "outputs": [],
   "source": [
    "#损失函数，使用交叉熵损失\n",
    "yy = tf.placeholder(tf.float32, [None, 10])\n",
    "cross_entropy = -tf.reduce_sum(yy * tf.log(y))"
   ]
  },
  {
   "cell_type": "code",
   "execution_count": 5,
   "metadata": {
    "collapsed": true
   },
   "outputs": [],
   "source": [
    "#梯度下降训练\n",
    "train_step = tf.train.GradientDescentOptimizer(0.01).minimize(cross_entropy)"
   ]
  },
  {
   "cell_type": "code",
   "execution_count": 6,
   "metadata": {
    "collapsed": true
   },
   "outputs": [],
   "source": [
    "#初始化tf变量和图，开始训练\n",
    "init = tf.global_variables_initializer()\n",
    "sess = tf.Session()\n",
    "sess.run(init)"
   ]
  },
  {
   "cell_type": "code",
   "execution_count": 7,
   "metadata": {},
   "outputs": [
    {
     "name": "stdout",
     "output_type": "stream",
     "text": [
      "i:0,w:[[ 0.  0.  0. ...,  0.  0.  0.]\n",
      " [ 0.  0.  0. ...,  0.  0.  0.]\n",
      " [ 0.  0.  0. ...,  0.  0.  0.]\n",
      " ..., \n",
      " [ 0.  0.  0. ...,  0.  0.  0.]\n",
      " [ 0.  0.  0. ...,  0.  0.  0.]\n",
      " [ 0.  0.  0. ...,  0.  0.  0.]],b:[-0.01       -0.02999999 -0.01999997 -0.01       -0.01999997 -0.02999999\n",
      "  0.04000003  0.02000003  0.03        0.03000006]\n",
      "i:100,w:[[ 0.  0.  0. ...,  0.  0.  0.]\n",
      " [ 0.  0.  0. ...,  0.  0.  0.]\n",
      " [ 0.  0.  0. ...,  0.  0.  0.]\n",
      " ..., \n",
      " [ 0.  0.  0. ...,  0.  0.  0.]\n",
      " [ 0.  0.  0. ...,  0.  0.  0.]\n",
      " [ 0.  0.  0. ...,  0.  0.  0.]],b:[-0.16080061  0.28654617 -0.05690459 -0.1044302   0.05088141  0.57086569\n",
      "  0.01984028  0.27610818 -0.75028223 -0.13182306]\n",
      "i:200,w:[[ 0.  0.  0. ...,  0.  0.  0.]\n",
      " [ 0.  0.  0. ...,  0.  0.  0.]\n",
      " [ 0.  0.  0. ...,  0.  0.  0.]\n",
      " ..., \n",
      " [ 0.  0.  0. ...,  0.  0.  0.]\n",
      " [ 0.  0.  0. ...,  0.  0.  0.]\n",
      " [ 0.  0.  0. ...,  0.  0.  0.]],b:[-0.20494522  0.27545971 -0.03976974 -0.15389898  0.12952916  0.85522431\n",
      " -0.0420763   0.37827602 -0.99903202 -0.19876564]\n",
      "i:300,w:[[ 0.  0.  0. ...,  0.  0.  0.]\n",
      " [ 0.  0.  0. ...,  0.  0.  0.]\n",
      " [ 0.  0.  0. ...,  0.  0.  0.]\n",
      " ..., \n",
      " [ 0.  0.  0. ...,  0.  0.  0.]\n",
      " [ 0.  0.  0. ...,  0.  0.  0.]\n",
      " [ 0.  0.  0. ...,  0.  0.  0.]],b:[ -2.68553317e-01   3.22401762e-01   6.05199486e-04  -1.72735006e-01\n",
      "   7.10742921e-02   1.02112055e+00   9.34696943e-03   5.29298067e-01\n",
      "  -1.22284317e+00  -2.89713651e-01]\n",
      "i:400,w:[[ 0.  0.  0. ...,  0.  0.  0.]\n",
      " [ 0.  0.  0. ...,  0.  0.  0.]\n",
      " [ 0.  0.  0. ...,  0.  0.  0.]\n",
      " ..., \n",
      " [ 0.  0.  0. ...,  0.  0.  0.]\n",
      " [ 0.  0.  0. ...,  0.  0.  0.]\n",
      " [ 0.  0.  0. ...,  0.  0.  0.]],b:[-0.32475138  0.33509833  0.04222146 -0.20915025  0.10328932  1.17088163\n",
      " -0.00209717  0.54773521 -1.36162603 -0.30159912]\n",
      "i:500,w:[[ 0.  0.  0. ...,  0.  0.  0.]\n",
      " [ 0.  0.  0. ...,  0.  0.  0.]\n",
      " [ 0.  0.  0. ...,  0.  0.  0.]\n",
      " ..., \n",
      " [ 0.  0.  0. ...,  0.  0.  0.]\n",
      " [ 0.  0.  0. ...,  0.  0.  0.]\n",
      " [ 0.  0.  0. ...,  0.  0.  0.]],b:[-0.36842051  0.37296656  0.06520422 -0.22987886  0.05627114  1.37024009\n",
      " -0.04296313  0.65386105 -1.54210556 -0.33517241]\n",
      "i:600,w:[[ 0.  0.  0. ...,  0.  0.  0.]\n",
      " [ 0.  0.  0. ...,  0.  0.  0.]\n",
      " [ 0.  0.  0. ...,  0.  0.  0.]\n",
      " ..., \n",
      " [ 0.  0.  0. ...,  0.  0.  0.]\n",
      " [ 0.  0.  0. ...,  0.  0.  0.]\n",
      " [ 0.  0.  0. ...,  0.  0.  0.]],b:[-0.42982876  0.35120869  0.1151973  -0.23323007 -0.01832853  1.49201071\n",
      " -0.06762277  0.72267199 -1.62645125 -0.30562466]\n",
      "i:700,w:[[ 0.  0.  0. ...,  0.  0.  0.]\n",
      " [ 0.  0.  0. ...,  0.  0.  0.]\n",
      " [ 0.  0.  0. ...,  0.  0.  0.]\n",
      " ..., \n",
      " [ 0.  0.  0. ...,  0.  0.  0.]\n",
      " [ 0.  0.  0. ...,  0.  0.  0.]\n",
      " [ 0.  0.  0. ...,  0.  0.  0.]],b:[-0.47314891  0.34259504  0.17325546 -0.29285395 -0.02669002  1.59017181\n",
      " -0.06760794  0.81418288 -1.72472847 -0.33517227]\n",
      "i:800,w:[[ 0.  0.  0. ...,  0.  0.  0.]\n",
      " [ 0.  0.  0. ...,  0.  0.  0.]\n",
      " [ 0.  0.  0. ...,  0.  0.  0.]\n",
      " ..., \n",
      " [ 0.  0.  0. ...,  0.  0.  0.]\n",
      " [ 0.  0.  0. ...,  0.  0.  0.]\n",
      " [ 0.  0.  0. ...,  0.  0.  0.]],b:[-0.52293718  0.35581595  0.15546472 -0.31854206 -0.00296187  1.69277894\n",
      " -0.12963808  0.88207304 -1.76625013 -0.34579971]\n",
      "i:900,w:[[ 0.  0.  0. ...,  0.  0.  0.]\n",
      " [ 0.  0.  0. ...,  0.  0.  0.]\n",
      " [ 0.  0.  0. ...,  0.  0.  0.]\n",
      " ..., \n",
      " [ 0.  0.  0. ...,  0.  0.  0.]\n",
      " [ 0.  0.  0. ...,  0.  0.  0.]\n",
      " [ 0.  0.  0. ...,  0.  0.  0.]],b:[ -5.97600937e-01   4.34937537e-01   1.63644150e-01  -3.81869376e-01\n",
      "  -9.04159620e-04   1.79934442e+00  -1.29759699e-01   8.95618916e-01\n",
      "  -1.84070790e+00  -3.42698425e-01]\n"
     ]
    }
   ],
   "source": [
    "#迭代1000次，每隔100次打印输出\n",
    "for i in range(1000):\n",
    "    batch_xs, batch_ys = mnist.train.next_batch(100)\n",
    "    sess.run(train_step, feed_dict={x:batch_xs,yy:batch_ys})\n",
    "    if i % 100 == 0 :\n",
    "        print(\"i:{},w:{},b:{}\".format(i,sess.run(w), sess.run(b)))"
   ]
  },
  {
   "cell_type": "code",
   "execution_count": 8,
   "metadata": {},
   "outputs": [
    {
     "name": "stdout",
     "output_type": "stream",
     "text": [
      "accuracy:0.9164000153541565\n"
     ]
    }
   ],
   "source": [
    "#评估正确率\n",
    "correct_prediction = tf.equal(tf.argmax(y, 1), tf.argmax(yy, 1))\n",
    "accuracy = tf.reduce_mean(tf.cast(correct_prediction, \"float\"))\n",
    "print(\"accuracy:{}\".format(sess.run(accuracy, feed_dict={x : mnist.test.images, yy : mnist.test.labels})))"
   ]
  },
  {
   "cell_type": "markdown",
   "metadata": {
    "collapsed": true
   },
   "source": [
    "    cnn的主要结构：\n",
    "    1.卷积层特征过滤\n",
    "    2.特征过滤，自动提取获取卷积核\n",
    "    3.池化层处理，减少计算量\n",
    "    4.激活后通过全连接层进行识别分类"
   ]
  },
  {
   "cell_type": "code",
   "execution_count": 9,
   "metadata": {
    "collapsed": true
   },
   "outputs": [],
   "source": [
    "#初始化权重和偏置参数的方法\n",
    "def init_weight(shape):\n",
    "    init = tf.truncated_normal(shape, stddev=0.1)\n",
    "    return tf.Variable(init)\n",
    "def init_bias(shape):\n",
    "    init = tf.constant(0.1, shape=shape)\n",
    "    return tf.Variable(init)"
   ]
  },
  {
   "cell_type": "code",
   "execution_count": 10,
   "metadata": {
    "collapsed": true
   },
   "outputs": [],
   "source": [
    "#卷积核定义为2*2大小的数组，池化层也定义为2*2的数组\n",
    "#卷积和池化操作定义为两个函数,池化方法为取最大值\n",
    "def conv2(x, w):\n",
    "    return tf.nn.conv2d(x, w, strides=[1, 1, 1, 1], padding=\"SAME\")\n",
    "    pass\n",
    "def max_pooling(x):\n",
    "    return tf.nn.max_pool(x, ksize=[1, 2, 2, 1], strides=[1, 2, 2, 1], padding=\"SAME\")\n",
    "    pass"
   ]
  },
  {
   "cell_type": "code",
   "execution_count": 11,
   "metadata": {
    "collapsed": true
   },
   "outputs": [],
   "source": [
    "#实现第一层卷积，由一个卷积层和一个max_pooling层组成\n",
    "w_conv1 = init_weight([5, 5, 1, 32])\n",
    "b_conv1 = init_bias([32])"
   ]
  },
  {
   "cell_type": "code",
   "execution_count": 12,
   "metadata": {},
   "outputs": [
    {
     "name": "stdout",
     "output_type": "stream",
     "text": [
      "Tensor(\"Reshape:0\", shape=(?, 28, 28, 1), dtype=float32)\n"
     ]
    }
   ],
   "source": [
    "#将图片变为4d数组\n",
    "x_image = tf.reshape(x, [-1, 28, 28, 1])\n",
    "print(x_image)"
   ]
  },
  {
   "cell_type": "code",
   "execution_count": 13,
   "metadata": {
    "collapsed": true
   },
   "outputs": [],
   "source": [
    "#对图片进行卷积和池化处理,然后用relu函数计算输出\n",
    "h_conv1 = tf.nn.relu(conv2(x_image, w_conv1) + b_conv1)\n",
    "h_pool1 = max_pooling(h_conv1)"
   ]
  },
  {
   "cell_type": "code",
   "execution_count": 14,
   "metadata": {
    "collapsed": true
   },
   "outputs": [],
   "source": [
    "#同理再实现第二层卷积\n",
    "w_conv2 = init_weight([5, 5, 32, 64])\n",
    "b_conv2 = init_bias([64])\n",
    "\n",
    "h_conv2 = tf.nn.relu(conv2(h_pool1, w_conv2) + b_conv2)\n",
    "h_pool2 = max_pooling(h_conv2)"
   ]
  },
  {
   "cell_type": "code",
   "execution_count": 15,
   "metadata": {
    "collapsed": true
   },
   "outputs": [],
   "source": [
    "#对处理的结果使用全连接层进行结果判定\n",
    "w_fc1 = init_weight([7 * 7 * 64, 1024])\n",
    "b_fc1 = init_bias([1024])\n",
    "\n",
    "h_pool2_flat = tf.reshape(h_pool2, [-1, 7 * 7 * 64])\n",
    "h_fc1 = tf.nn.relu(tf.matmul(h_pool2_flat, w_fc1) + b_fc1)"
   ]
  },
  {
   "cell_type": "code",
   "execution_count": 16,
   "metadata": {
    "collapsed": true
   },
   "outputs": [],
   "source": [
    "#减少过拟合，添加dropout层\n",
    "keep_prob = tf.placeholder(\"float\")\n",
    "h_fc1_drop = tf.nn.dropout(h_fc1, keep_prob)"
   ]
  },
  {
   "cell_type": "code",
   "execution_count": 17,
   "metadata": {
    "collapsed": true
   },
   "outputs": [],
   "source": [
    "#输出层，使用softmax函数\n",
    "w_fc2 = init_weight([1024, 10])\n",
    "b_fc2 = init_bias([10])\n",
    "\n",
    "y_conv = tf.nn.softmax(tf.matmul(h_fc1_drop, w_fc2) + b_fc2)"
   ]
  },
  {
   "cell_type": "code",
   "execution_count": 22,
   "metadata": {},
   "outputs": [
    {
     "name": "stdout",
     "output_type": "stream",
     "text": [
      "test accuracy:0.9218000173568726\n"
     ]
    }
   ],
   "source": [
    "#训练和评估模型,使用交叉熵函数对结果进行评价\n",
    "with tf.Session() as sess:\n",
    "    cross_entropy = -tf.reduce_sum(yy * tf.log(y_conv))\n",
    "    train_step = tf.train.AdagradOptimizer(1e-3).minimize(cross_entropy)\n",
    "    cross_prediction = tf.equal(tf.argmax(y_conv, 1), tf.argmax(yy, 1))\n",
    "    accuracy = tf.reduce_mean(tf.cast(cross_prediction, \"float\"))\n",
    "    sess.run(tf.global_variables_initializer())\n",
    "    for i in range(20000):\n",
    "        batch = mnist.train.next_batch(50)\n",
    "        if i % 100 == 0:\n",
    "            train_accuracy = accuracy.eval(feed_dict={x : batch[0], yy : batch[1], keep_prob:1.0})\n",
    "#             print(\"step:{}, train_accuracy:{}\".format(i, train_accuracy))\n",
    "            train_step.run(feed_dict={x : batch[0], yy : batch[1], keep_prob : 0.5})\n",
    "    print(\"test accuracy:{}\".format(accuracy.eval(feed_dict={x:mnist.test.images, yy : mnist.test.labels, keep_prob : 1.0})))"
   ]
  },
  {
   "cell_type": "code",
   "execution_count": null,
   "metadata": {
    "collapsed": true
   },
   "outputs": [],
   "source": []
  }
 ],
 "metadata": {
  "kernelspec": {
   "display_name": "Python 3",
   "language": "python",
   "name": "python3"
  },
  "language_info": {
   "codemirror_mode": {
    "name": "ipython",
    "version": 3
   },
   "file_extension": ".py",
   "mimetype": "text/x-python",
   "name": "python",
   "nbconvert_exporter": "python",
   "pygments_lexer": "ipython3",
   "version": "3.6.2"
  },
  "toc": {
   "base_numbering": 1,
   "nav_menu": {},
   "number_sections": true,
   "sideBar": true,
   "skip_h1_title": false,
   "title_cell": "Table of Contents",
   "title_sidebar": "Contents",
   "toc_cell": false,
   "toc_position": {},
   "toc_section_display": true,
   "toc_window_display": false
  }
 },
 "nbformat": 4,
 "nbformat_minor": 2
}
